{
 "cells": [
  {
   "cell_type": "markdown",
   "id": "cf8736ee-c2bd-4640-b405-2a2ec74201d4",
   "metadata": {},
   "source": [
    "# Malaysia Disease Prediction Using BPNN"
   ]
  },
  {
   "cell_type": "markdown",
   "id": "552e9aeb-0908-4023-8a10-be1dfb6b577e",
   "metadata": {},
   "source": [
    "## Pre-processing "
   ]
  },
  {
   "cell_type": "code",
   "execution_count": 1,
   "id": "eb89bc7d",
   "metadata": {},
   "outputs": [],
   "source": [
    "# import library\n",
    "import numpy as np\n",
    "import pandas as pd\n",
    "from sklearn.model_selection import train_test_split\n",
    "import matplotlib.pyplot as plt"
   ]
  },
  {
   "cell_type": "code",
   "execution_count": 2,
   "id": "1cda1e06",
   "metadata": {},
   "outputs": [
    {
     "data": {
      "text/html": [
       "<div>\n",
       "<style scoped>\n",
       "    .dataframe tbody tr th:only-of-type {\n",
       "        vertical-align: middle;\n",
       "    }\n",
       "\n",
       "    .dataframe tbody tr th {\n",
       "        vertical-align: top;\n",
       "    }\n",
       "\n",
       "    .dataframe thead th {\n",
       "        text-align: right;\n",
       "    }\n",
       "</style>\n",
       "<table border=\"1\" class=\"dataframe\">\n",
       "  <thead>\n",
       "    <tr style=\"text-align: right;\">\n",
       "      <th></th>\n",
       "      <th>itching</th>\n",
       "      <th>skin_rash</th>\n",
       "      <th>continuous_sneezing</th>\n",
       "      <th>shivering</th>\n",
       "      <th>chills</th>\n",
       "      <th>joint_pain</th>\n",
       "      <th>stomach_pain</th>\n",
       "      <th>acidity</th>\n",
       "      <th>ulcers_on_tongue</th>\n",
       "      <th>muscle_wasting</th>\n",
       "      <th>...</th>\n",
       "      <th>red_spots_over_body</th>\n",
       "      <th>watering_from_eyes</th>\n",
       "      <th>increased_appetite</th>\n",
       "      <th>polyuria</th>\n",
       "      <th>lack_of_concentration</th>\n",
       "      <th>visual_disturbances</th>\n",
       "      <th>pus_filled_pimples</th>\n",
       "      <th>blackheads</th>\n",
       "      <th>scurring</th>\n",
       "      <th>prognosis</th>\n",
       "    </tr>\n",
       "  </thead>\n",
       "  <tbody>\n",
       "    <tr>\n",
       "      <th>0</th>\n",
       "      <td>0</td>\n",
       "      <td>1</td>\n",
       "      <td>0</td>\n",
       "      <td>0</td>\n",
       "      <td>0</td>\n",
       "      <td>0</td>\n",
       "      <td>0</td>\n",
       "      <td>0</td>\n",
       "      <td>0</td>\n",
       "      <td>0</td>\n",
       "      <td>...</td>\n",
       "      <td>0</td>\n",
       "      <td>0</td>\n",
       "      <td>0</td>\n",
       "      <td>0</td>\n",
       "      <td>0</td>\n",
       "      <td>0</td>\n",
       "      <td>1</td>\n",
       "      <td>1</td>\n",
       "      <td>1</td>\n",
       "      <td>0</td>\n",
       "    </tr>\n",
       "    <tr>\n",
       "      <th>1</th>\n",
       "      <td>0</td>\n",
       "      <td>1</td>\n",
       "      <td>0</td>\n",
       "      <td>0</td>\n",
       "      <td>0</td>\n",
       "      <td>0</td>\n",
       "      <td>0</td>\n",
       "      <td>0</td>\n",
       "      <td>0</td>\n",
       "      <td>0</td>\n",
       "      <td>...</td>\n",
       "      <td>0</td>\n",
       "      <td>0</td>\n",
       "      <td>0</td>\n",
       "      <td>0</td>\n",
       "      <td>0</td>\n",
       "      <td>0</td>\n",
       "      <td>1</td>\n",
       "      <td>1</td>\n",
       "      <td>1</td>\n",
       "      <td>0</td>\n",
       "    </tr>\n",
       "    <tr>\n",
       "      <th>2</th>\n",
       "      <td>0</td>\n",
       "      <td>0</td>\n",
       "      <td>0</td>\n",
       "      <td>0</td>\n",
       "      <td>0</td>\n",
       "      <td>0</td>\n",
       "      <td>0</td>\n",
       "      <td>0</td>\n",
       "      <td>0</td>\n",
       "      <td>0</td>\n",
       "      <td>...</td>\n",
       "      <td>0</td>\n",
       "      <td>0</td>\n",
       "      <td>0</td>\n",
       "      <td>0</td>\n",
       "      <td>0</td>\n",
       "      <td>0</td>\n",
       "      <td>1</td>\n",
       "      <td>1</td>\n",
       "      <td>1</td>\n",
       "      <td>0</td>\n",
       "    </tr>\n",
       "    <tr>\n",
       "      <th>3</th>\n",
       "      <td>0</td>\n",
       "      <td>1</td>\n",
       "      <td>0</td>\n",
       "      <td>0</td>\n",
       "      <td>0</td>\n",
       "      <td>0</td>\n",
       "      <td>0</td>\n",
       "      <td>0</td>\n",
       "      <td>0</td>\n",
       "      <td>0</td>\n",
       "      <td>...</td>\n",
       "      <td>0</td>\n",
       "      <td>0</td>\n",
       "      <td>0</td>\n",
       "      <td>0</td>\n",
       "      <td>0</td>\n",
       "      <td>0</td>\n",
       "      <td>0</td>\n",
       "      <td>1</td>\n",
       "      <td>1</td>\n",
       "      <td>0</td>\n",
       "    </tr>\n",
       "    <tr>\n",
       "      <th>4</th>\n",
       "      <td>0</td>\n",
       "      <td>1</td>\n",
       "      <td>0</td>\n",
       "      <td>0</td>\n",
       "      <td>0</td>\n",
       "      <td>0</td>\n",
       "      <td>0</td>\n",
       "      <td>0</td>\n",
       "      <td>0</td>\n",
       "      <td>0</td>\n",
       "      <td>...</td>\n",
       "      <td>0</td>\n",
       "      <td>0</td>\n",
       "      <td>0</td>\n",
       "      <td>0</td>\n",
       "      <td>0</td>\n",
       "      <td>0</td>\n",
       "      <td>1</td>\n",
       "      <td>0</td>\n",
       "      <td>1</td>\n",
       "      <td>0</td>\n",
       "    </tr>\n",
       "  </tbody>\n",
       "</table>\n",
       "<p>5 rows × 58 columns</p>\n",
       "</div>"
      ],
      "text/plain": [
       "   itching  skin_rash  continuous_sneezing  shivering  chills  joint_pain  \\\n",
       "0        0          1                    0          0       0           0   \n",
       "1        0          1                    0          0       0           0   \n",
       "2        0          0                    0          0       0           0   \n",
       "3        0          1                    0          0       0           0   \n",
       "4        0          1                    0          0       0           0   \n",
       "\n",
       "   stomach_pain  acidity  ulcers_on_tongue  muscle_wasting  ...  \\\n",
       "0             0        0                 0               0  ...   \n",
       "1             0        0                 0               0  ...   \n",
       "2             0        0                 0               0  ...   \n",
       "3             0        0                 0               0  ...   \n",
       "4             0        0                 0               0  ...   \n",
       "\n",
       "   red_spots_over_body  watering_from_eyes  increased_appetite  polyuria  \\\n",
       "0                    0                   0                   0         0   \n",
       "1                    0                   0                   0         0   \n",
       "2                    0                   0                   0         0   \n",
       "3                    0                   0                   0         0   \n",
       "4                    0                   0                   0         0   \n",
       "\n",
       "   lack_of_concentration  visual_disturbances  pus_filled_pimples  blackheads  \\\n",
       "0                      0                    0                   1           1   \n",
       "1                      0                    0                   1           1   \n",
       "2                      0                    0                   1           1   \n",
       "3                      0                    0                   0           1   \n",
       "4                      0                    0                   1           0   \n",
       "\n",
       "   scurring  prognosis  \n",
       "0         1          0  \n",
       "1         1          0  \n",
       "2         1          0  \n",
       "3         1          0  \n",
       "4         1          0  \n",
       "\n",
       "[5 rows x 58 columns]"
      ]
     },
     "execution_count": 2,
     "metadata": {},
     "output_type": "execute_result"
    }
   ],
   "source": [
    "train = pd.read_csv('data/Training.csv')\n",
    "test= pd.read_csv('data/Testing.csv')\n",
    "train.head()"
   ]
  },
  {
   "cell_type": "code",
   "execution_count": 4,
   "id": "92466f3b",
   "metadata": {},
   "outputs": [
    {
     "data": {
      "text/plain": [
       "(1440, 58)"
      ]
     },
     "execution_count": 4,
     "metadata": {},
     "output_type": "execute_result"
    }
   ],
   "source": [
    "train.shape"
   ]
  },
  {
   "cell_type": "code",
   "execution_count": 6,
   "id": "e9640b09",
   "metadata": {},
   "outputs": [
    {
     "name": "stdout",
     "output_type": "stream",
     "text": [
      "<class 'pandas.core.frame.DataFrame'>\n",
      "RangeIndex: 1440 entries, 0 to 1439\n",
      "Data columns (total 58 columns):\n",
      " #   Column                        Non-Null Count  Dtype\n",
      "---  ------                        --------------  -----\n",
      " 0   itching                       1440 non-null   int64\n",
      " 1   skin_rash                     1440 non-null   int64\n",
      " 2   continuous_sneezing           1440 non-null   int64\n",
      " 3   shivering                     1440 non-null   int64\n",
      " 4   chills                        1440 non-null   int64\n",
      " 5   joint_pain                    1440 non-null   int64\n",
      " 6   stomach_pain                  1440 non-null   int64\n",
      " 7   acidity                       1440 non-null   int64\n",
      " 8   ulcers_on_tongue              1440 non-null   int64\n",
      " 9   muscle_wasting                1440 non-null   int64\n",
      " 10  vomiting                      1440 non-null   int64\n",
      " 11  fatigue                       1440 non-null   int64\n",
      " 12  weight_loss                   1440 non-null   int64\n",
      " 13  restlessness                  1440 non-null   int64\n",
      " 14  lethargy                      1440 non-null   int64\n",
      " 15  patches_in_throat             1440 non-null   int64\n",
      " 16  irregular_sugar_level         1440 non-null   int64\n",
      " 17  cough                         1440 non-null   int64\n",
      " 18  high_fever                    1440 non-null   int64\n",
      " 19  breathlessness                1440 non-null   int64\n",
      " 20  sweating                      1440 non-null   int64\n",
      " 21  indigestion                   1440 non-null   int64\n",
      " 22  headache                      1440 non-null   int64\n",
      " 23  nausea                        1440 non-null   int64\n",
      " 24  loss_of_appetite              1440 non-null   int64\n",
      " 25  pain_behind_the_eyes          1440 non-null   int64\n",
      " 26  back_pain                     1440 non-null   int64\n",
      " 27  diarrhoea                     1440 non-null   int64\n",
      " 28  mild_fever                    1440 non-null   int64\n",
      " 29  swelled_lymph_nodes           1440 non-null   int64\n",
      " 30  malaise                       1440 non-null   int64\n",
      " 31  blurred_and_distorted_vision  1440 non-null   int64\n",
      " 32  phlegm                        1440 non-null   int64\n",
      " 33  throat_irritation             1440 non-null   int64\n",
      " 34  redness_of_eyes               1440 non-null   int64\n",
      " 35  sinus_pressure                1440 non-null   int64\n",
      " 36  runny_nose                    1440 non-null   int64\n",
      " 37  congestion                    1440 non-null   int64\n",
      " 38  chest_pain                    1440 non-null   int64\n",
      " 39  dizziness                     1440 non-null   int64\n",
      " 40  obesity                       1440 non-null   int64\n",
      " 41  excessive_hunger              1440 non-null   int64\n",
      " 42  extra_marital_contacts        1440 non-null   int64\n",
      " 43  loss_of_balance               1440 non-null   int64\n",
      " 44  loss_of_smell                 1440 non-null   int64\n",
      " 45  depression                    1440 non-null   int64\n",
      " 46  irritability                  1440 non-null   int64\n",
      " 47  muscle_pain                   1440 non-null   int64\n",
      " 48  red_spots_over_body           1440 non-null   int64\n",
      " 49  watering_from_eyes            1440 non-null   int64\n",
      " 50  increased_appetite            1440 non-null   int64\n",
      " 51  polyuria                      1440 non-null   int64\n",
      " 52  lack_of_concentration         1440 non-null   int64\n",
      " 53  visual_disturbances           1440 non-null   int64\n",
      " 54  pus_filled_pimples            1440 non-null   int64\n",
      " 55  blackheads                    1440 non-null   int64\n",
      " 56  scurring                      1440 non-null   int64\n",
      " 57  prognosis                     1440 non-null   int64\n",
      "dtypes: int64(58)\n",
      "memory usage: 652.6 KB\n"
     ]
    }
   ],
   "source": [
    "train.info()"
   ]
  },
  {
   "cell_type": "code",
   "execution_count": 7,
   "id": "82b50533",
   "metadata": {},
   "outputs": [
    {
     "data": {
      "text/plain": [
       "itching                         0\n",
       "skin_rash                       0\n",
       "continuous_sneezing             0\n",
       "shivering                       0\n",
       "chills                          0\n",
       "joint_pain                      0\n",
       "stomach_pain                    0\n",
       "acidity                         0\n",
       "ulcers_on_tongue                0\n",
       "muscle_wasting                  0\n",
       "vomiting                        0\n",
       "fatigue                         0\n",
       "weight_loss                     0\n",
       "restlessness                    0\n",
       "lethargy                        0\n",
       "patches_in_throat               0\n",
       "irregular_sugar_level           0\n",
       "cough                           0\n",
       "high_fever                      0\n",
       "breathlessness                  0\n",
       "sweating                        0\n",
       "indigestion                     0\n",
       "headache                        0\n",
       "nausea                          0\n",
       "loss_of_appetite                0\n",
       "pain_behind_the_eyes            0\n",
       "back_pain                       0\n",
       "diarrhoea                       0\n",
       "mild_fever                      0\n",
       "swelled_lymph_nodes             0\n",
       "malaise                         0\n",
       "blurred_and_distorted_vision    0\n",
       "phlegm                          0\n",
       "throat_irritation               0\n",
       "redness_of_eyes                 0\n",
       "sinus_pressure                  0\n",
       "runny_nose                      0\n",
       "congestion                      0\n",
       "chest_pain                      0\n",
       "dizziness                       0\n",
       "obesity                         0\n",
       "excessive_hunger                0\n",
       "extra_marital_contacts          0\n",
       "loss_of_balance                 0\n",
       "loss_of_smell                   0\n",
       "depression                      0\n",
       "irritability                    0\n",
       "muscle_pain                     0\n",
       "red_spots_over_body             0\n",
       "watering_from_eyes              0\n",
       "increased_appetite              0\n",
       "polyuria                        0\n",
       "lack_of_concentration           0\n",
       "visual_disturbances             0\n",
       "pus_filled_pimples              0\n",
       "blackheads                      0\n",
       "scurring                        0\n",
       "prognosis                       0\n",
       "dtype: int64"
      ]
     },
     "execution_count": 7,
     "metadata": {},
     "output_type": "execute_result"
    }
   ],
   "source": [
    "train.isna().sum() # calculation of the missing value"
   ]
  },
  {
   "cell_type": "code",
   "execution_count": 8,
   "id": "0d5009bd",
   "metadata": {},
   "outputs": [
    {
     "data": {
      "text/plain": [
       "itching                          2\n",
       "skin_rash                        2\n",
       "continuous_sneezing              2\n",
       "shivering                        2\n",
       "chills                           2\n",
       "joint_pain                       2\n",
       "stomach_pain                     2\n",
       "acidity                          2\n",
       "ulcers_on_tongue                 2\n",
       "muscle_wasting                   2\n",
       "vomiting                         2\n",
       "fatigue                          2\n",
       "weight_loss                      2\n",
       "restlessness                     2\n",
       "lethargy                         2\n",
       "patches_in_throat                2\n",
       "irregular_sugar_level            2\n",
       "cough                            2\n",
       "high_fever                       2\n",
       "breathlessness                   2\n",
       "sweating                         2\n",
       "indigestion                      2\n",
       "headache                         2\n",
       "nausea                           2\n",
       "loss_of_appetite                 2\n",
       "pain_behind_the_eyes             2\n",
       "back_pain                        2\n",
       "diarrhoea                        2\n",
       "mild_fever                       2\n",
       "swelled_lymph_nodes              2\n",
       "malaise                          2\n",
       "blurred_and_distorted_vision     2\n",
       "phlegm                           2\n",
       "throat_irritation                2\n",
       "redness_of_eyes                  2\n",
       "sinus_pressure                   2\n",
       "runny_nose                       2\n",
       "congestion                       2\n",
       "chest_pain                       2\n",
       "dizziness                        2\n",
       "obesity                          2\n",
       "excessive_hunger                 2\n",
       "extra_marital_contacts           2\n",
       "loss_of_balance                  2\n",
       "loss_of_smell                    2\n",
       "depression                       2\n",
       "irritability                     2\n",
       "muscle_pain                      2\n",
       "red_spots_over_body              2\n",
       "watering_from_eyes               2\n",
       "increased_appetite               2\n",
       "polyuria                         2\n",
       "lack_of_concentration            2\n",
       "visual_disturbances              2\n",
       "pus_filled_pimples               2\n",
       "blackheads                       2\n",
       "scurring                         2\n",
       "prognosis                       12\n",
       "dtype: int64"
      ]
     },
     "execution_count": 8,
     "metadata": {},
     "output_type": "execute_result"
    }
   ],
   "source": [
    "train.nunique()"
   ]
  },
  {
   "cell_type": "code",
   "execution_count": 9,
   "id": "2d7379b5",
   "metadata": {},
   "outputs": [
    {
     "data": {
      "text/html": [
       "<div>\n",
       "<style scoped>\n",
       "    .dataframe tbody tr th:only-of-type {\n",
       "        vertical-align: middle;\n",
       "    }\n",
       "\n",
       "    .dataframe tbody tr th {\n",
       "        vertical-align: top;\n",
       "    }\n",
       "\n",
       "    .dataframe thead th {\n",
       "        text-align: right;\n",
       "    }\n",
       "</style>\n",
       "<table border=\"1\" class=\"dataframe\">\n",
       "  <thead>\n",
       "    <tr style=\"text-align: right;\">\n",
       "      <th></th>\n",
       "      <th>itching</th>\n",
       "      <th>skin_rash</th>\n",
       "      <th>continuous_sneezing</th>\n",
       "      <th>shivering</th>\n",
       "      <th>chills</th>\n",
       "      <th>joint_pain</th>\n",
       "      <th>stomach_pain</th>\n",
       "      <th>acidity</th>\n",
       "      <th>ulcers_on_tongue</th>\n",
       "      <th>muscle_wasting</th>\n",
       "      <th>...</th>\n",
       "      <th>muscle_pain</th>\n",
       "      <th>red_spots_over_body</th>\n",
       "      <th>watering_from_eyes</th>\n",
       "      <th>increased_appetite</th>\n",
       "      <th>polyuria</th>\n",
       "      <th>lack_of_concentration</th>\n",
       "      <th>visual_disturbances</th>\n",
       "      <th>pus_filled_pimples</th>\n",
       "      <th>blackheads</th>\n",
       "      <th>scurring</th>\n",
       "    </tr>\n",
       "  </thead>\n",
       "  <tbody>\n",
       "    <tr>\n",
       "      <th>0</th>\n",
       "      <td>0</td>\n",
       "      <td>1</td>\n",
       "      <td>0</td>\n",
       "      <td>0</td>\n",
       "      <td>0</td>\n",
       "      <td>0</td>\n",
       "      <td>0</td>\n",
       "      <td>0</td>\n",
       "      <td>0</td>\n",
       "      <td>0</td>\n",
       "      <td>...</td>\n",
       "      <td>0</td>\n",
       "      <td>0</td>\n",
       "      <td>0</td>\n",
       "      <td>0</td>\n",
       "      <td>0</td>\n",
       "      <td>0</td>\n",
       "      <td>0</td>\n",
       "      <td>1</td>\n",
       "      <td>1</td>\n",
       "      <td>1</td>\n",
       "    </tr>\n",
       "    <tr>\n",
       "      <th>1</th>\n",
       "      <td>0</td>\n",
       "      <td>1</td>\n",
       "      <td>0</td>\n",
       "      <td>0</td>\n",
       "      <td>0</td>\n",
       "      <td>0</td>\n",
       "      <td>0</td>\n",
       "      <td>0</td>\n",
       "      <td>0</td>\n",
       "      <td>0</td>\n",
       "      <td>...</td>\n",
       "      <td>0</td>\n",
       "      <td>0</td>\n",
       "      <td>0</td>\n",
       "      <td>0</td>\n",
       "      <td>0</td>\n",
       "      <td>0</td>\n",
       "      <td>0</td>\n",
       "      <td>1</td>\n",
       "      <td>1</td>\n",
       "      <td>1</td>\n",
       "    </tr>\n",
       "    <tr>\n",
       "      <th>2</th>\n",
       "      <td>0</td>\n",
       "      <td>0</td>\n",
       "      <td>0</td>\n",
       "      <td>0</td>\n",
       "      <td>0</td>\n",
       "      <td>0</td>\n",
       "      <td>0</td>\n",
       "      <td>0</td>\n",
       "      <td>0</td>\n",
       "      <td>0</td>\n",
       "      <td>...</td>\n",
       "      <td>0</td>\n",
       "      <td>0</td>\n",
       "      <td>0</td>\n",
       "      <td>0</td>\n",
       "      <td>0</td>\n",
       "      <td>0</td>\n",
       "      <td>0</td>\n",
       "      <td>1</td>\n",
       "      <td>1</td>\n",
       "      <td>1</td>\n",
       "    </tr>\n",
       "    <tr>\n",
       "      <th>3</th>\n",
       "      <td>0</td>\n",
       "      <td>1</td>\n",
       "      <td>0</td>\n",
       "      <td>0</td>\n",
       "      <td>0</td>\n",
       "      <td>0</td>\n",
       "      <td>0</td>\n",
       "      <td>0</td>\n",
       "      <td>0</td>\n",
       "      <td>0</td>\n",
       "      <td>...</td>\n",
       "      <td>0</td>\n",
       "      <td>0</td>\n",
       "      <td>0</td>\n",
       "      <td>0</td>\n",
       "      <td>0</td>\n",
       "      <td>0</td>\n",
       "      <td>0</td>\n",
       "      <td>0</td>\n",
       "      <td>1</td>\n",
       "      <td>1</td>\n",
       "    </tr>\n",
       "    <tr>\n",
       "      <th>4</th>\n",
       "      <td>0</td>\n",
       "      <td>1</td>\n",
       "      <td>0</td>\n",
       "      <td>0</td>\n",
       "      <td>0</td>\n",
       "      <td>0</td>\n",
       "      <td>0</td>\n",
       "      <td>0</td>\n",
       "      <td>0</td>\n",
       "      <td>0</td>\n",
       "      <td>...</td>\n",
       "      <td>0</td>\n",
       "      <td>0</td>\n",
       "      <td>0</td>\n",
       "      <td>0</td>\n",
       "      <td>0</td>\n",
       "      <td>0</td>\n",
       "      <td>0</td>\n",
       "      <td>1</td>\n",
       "      <td>0</td>\n",
       "      <td>1</td>\n",
       "    </tr>\n",
       "    <tr>\n",
       "      <th>...</th>\n",
       "      <td>...</td>\n",
       "      <td>...</td>\n",
       "      <td>...</td>\n",
       "      <td>...</td>\n",
       "      <td>...</td>\n",
       "      <td>...</td>\n",
       "      <td>...</td>\n",
       "      <td>...</td>\n",
       "      <td>...</td>\n",
       "      <td>...</td>\n",
       "      <td>...</td>\n",
       "      <td>...</td>\n",
       "      <td>...</td>\n",
       "      <td>...</td>\n",
       "      <td>...</td>\n",
       "      <td>...</td>\n",
       "      <td>...</td>\n",
       "      <td>...</td>\n",
       "      <td>...</td>\n",
       "      <td>...</td>\n",
       "      <td>...</td>\n",
       "    </tr>\n",
       "    <tr>\n",
       "      <th>1435</th>\n",
       "      <td>0</td>\n",
       "      <td>0</td>\n",
       "      <td>0</td>\n",
       "      <td>0</td>\n",
       "      <td>0</td>\n",
       "      <td>0</td>\n",
       "      <td>0</td>\n",
       "      <td>1</td>\n",
       "      <td>0</td>\n",
       "      <td>0</td>\n",
       "      <td>...</td>\n",
       "      <td>0</td>\n",
       "      <td>0</td>\n",
       "      <td>0</td>\n",
       "      <td>0</td>\n",
       "      <td>0</td>\n",
       "      <td>0</td>\n",
       "      <td>1</td>\n",
       "      <td>0</td>\n",
       "      <td>0</td>\n",
       "      <td>0</td>\n",
       "    </tr>\n",
       "    <tr>\n",
       "      <th>1436</th>\n",
       "      <td>0</td>\n",
       "      <td>0</td>\n",
       "      <td>0</td>\n",
       "      <td>0</td>\n",
       "      <td>0</td>\n",
       "      <td>0</td>\n",
       "      <td>0</td>\n",
       "      <td>1</td>\n",
       "      <td>0</td>\n",
       "      <td>0</td>\n",
       "      <td>...</td>\n",
       "      <td>0</td>\n",
       "      <td>0</td>\n",
       "      <td>0</td>\n",
       "      <td>0</td>\n",
       "      <td>0</td>\n",
       "      <td>0</td>\n",
       "      <td>1</td>\n",
       "      <td>0</td>\n",
       "      <td>0</td>\n",
       "      <td>0</td>\n",
       "    </tr>\n",
       "    <tr>\n",
       "      <th>1437</th>\n",
       "      <td>0</td>\n",
       "      <td>0</td>\n",
       "      <td>0</td>\n",
       "      <td>0</td>\n",
       "      <td>0</td>\n",
       "      <td>0</td>\n",
       "      <td>0</td>\n",
       "      <td>1</td>\n",
       "      <td>0</td>\n",
       "      <td>0</td>\n",
       "      <td>...</td>\n",
       "      <td>0</td>\n",
       "      <td>0</td>\n",
       "      <td>0</td>\n",
       "      <td>0</td>\n",
       "      <td>0</td>\n",
       "      <td>0</td>\n",
       "      <td>1</td>\n",
       "      <td>0</td>\n",
       "      <td>0</td>\n",
       "      <td>0</td>\n",
       "    </tr>\n",
       "    <tr>\n",
       "      <th>1438</th>\n",
       "      <td>0</td>\n",
       "      <td>0</td>\n",
       "      <td>0</td>\n",
       "      <td>0</td>\n",
       "      <td>0</td>\n",
       "      <td>0</td>\n",
       "      <td>0</td>\n",
       "      <td>1</td>\n",
       "      <td>0</td>\n",
       "      <td>0</td>\n",
       "      <td>...</td>\n",
       "      <td>0</td>\n",
       "      <td>0</td>\n",
       "      <td>0</td>\n",
       "      <td>0</td>\n",
       "      <td>0</td>\n",
       "      <td>0</td>\n",
       "      <td>1</td>\n",
       "      <td>0</td>\n",
       "      <td>0</td>\n",
       "      <td>0</td>\n",
       "    </tr>\n",
       "    <tr>\n",
       "      <th>1439</th>\n",
       "      <td>0</td>\n",
       "      <td>0</td>\n",
       "      <td>0</td>\n",
       "      <td>0</td>\n",
       "      <td>0</td>\n",
       "      <td>0</td>\n",
       "      <td>0</td>\n",
       "      <td>1</td>\n",
       "      <td>0</td>\n",
       "      <td>0</td>\n",
       "      <td>...</td>\n",
       "      <td>0</td>\n",
       "      <td>0</td>\n",
       "      <td>0</td>\n",
       "      <td>0</td>\n",
       "      <td>0</td>\n",
       "      <td>0</td>\n",
       "      <td>1</td>\n",
       "      <td>0</td>\n",
       "      <td>0</td>\n",
       "      <td>0</td>\n",
       "    </tr>\n",
       "  </tbody>\n",
       "</table>\n",
       "<p>1440 rows × 57 columns</p>\n",
       "</div>"
      ],
      "text/plain": [
       "      itching  skin_rash  continuous_sneezing  shivering  chills  joint_pain  \\\n",
       "0           0          1                    0          0       0           0   \n",
       "1           0          1                    0          0       0           0   \n",
       "2           0          0                    0          0       0           0   \n",
       "3           0          1                    0          0       0           0   \n",
       "4           0          1                    0          0       0           0   \n",
       "...       ...        ...                  ...        ...     ...         ...   \n",
       "1435        0          0                    0          0       0           0   \n",
       "1436        0          0                    0          0       0           0   \n",
       "1437        0          0                    0          0       0           0   \n",
       "1438        0          0                    0          0       0           0   \n",
       "1439        0          0                    0          0       0           0   \n",
       "\n",
       "      stomach_pain  acidity  ulcers_on_tongue  muscle_wasting  ...  \\\n",
       "0                0        0                 0               0  ...   \n",
       "1                0        0                 0               0  ...   \n",
       "2                0        0                 0               0  ...   \n",
       "3                0        0                 0               0  ...   \n",
       "4                0        0                 0               0  ...   \n",
       "...            ...      ...               ...             ...  ...   \n",
       "1435             0        1                 0               0  ...   \n",
       "1436             0        1                 0               0  ...   \n",
       "1437             0        1                 0               0  ...   \n",
       "1438             0        1                 0               0  ...   \n",
       "1439             0        1                 0               0  ...   \n",
       "\n",
       "      muscle_pain  red_spots_over_body  watering_from_eyes  \\\n",
       "0               0                    0                   0   \n",
       "1               0                    0                   0   \n",
       "2               0                    0                   0   \n",
       "3               0                    0                   0   \n",
       "4               0                    0                   0   \n",
       "...           ...                  ...                 ...   \n",
       "1435            0                    0                   0   \n",
       "1436            0                    0                   0   \n",
       "1437            0                    0                   0   \n",
       "1438            0                    0                   0   \n",
       "1439            0                    0                   0   \n",
       "\n",
       "      increased_appetite  polyuria  lack_of_concentration  \\\n",
       "0                      0         0                      0   \n",
       "1                      0         0                      0   \n",
       "2                      0         0                      0   \n",
       "3                      0         0                      0   \n",
       "4                      0         0                      0   \n",
       "...                  ...       ...                    ...   \n",
       "1435                   0         0                      0   \n",
       "1436                   0         0                      0   \n",
       "1437                   0         0                      0   \n",
       "1438                   0         0                      0   \n",
       "1439                   0         0                      0   \n",
       "\n",
       "      visual_disturbances  pus_filled_pimples  blackheads  scurring  \n",
       "0                       0                   1           1         1  \n",
       "1                       0                   1           1         1  \n",
       "2                       0                   1           1         1  \n",
       "3                       0                   0           1         1  \n",
       "4                       0                   1           0         1  \n",
       "...                   ...                 ...         ...       ...  \n",
       "1435                    1                   0           0         0  \n",
       "1436                    1                   0           0         0  \n",
       "1437                    1                   0           0         0  \n",
       "1438                    1                   0           0         0  \n",
       "1439                    1                   0           0         0  \n",
       "\n",
       "[1440 rows x 57 columns]"
      ]
     },
     "execution_count": 9,
     "metadata": {},
     "output_type": "execute_result"
    }
   ],
   "source": [
    "X = train.drop('prognosis',axis=1)\n",
    "X #X are in DataFrame, its easy to change it into array to match with the target"
   ]
  },
  {
   "cell_type": "code",
   "execution_count": 10,
   "id": "209fc881",
   "metadata": {},
   "outputs": [
    {
     "data": {
      "text/plain": [
       "(1440, 57)"
      ]
     },
     "execution_count": 10,
     "metadata": {},
     "output_type": "execute_result"
    }
   ],
   "source": [
    "# change X DataFrame into array \n",
    "x = np.array(X)\n",
    "x.shape"
   ]
  },
  {
   "cell_type": "code",
   "execution_count": 11,
   "id": "fb096618",
   "metadata": {},
   "outputs": [
    {
     "data": {
      "text/plain": [
       "(1440, 12)"
      ]
     },
     "execution_count": 11,
     "metadata": {},
     "output_type": "execute_result"
    }
   ],
   "source": [
    "y = np.array(train['prognosis'])\n",
    "y = pd.get_dummies(y).values\n",
    "y.shape"
   ]
  },
  {
   "cell_type": "code",
   "execution_count": 12,
   "id": "965bbe62",
   "metadata": {},
   "outputs": [
    {
     "data": {
      "text/plain": [
       "array([[0, 1, 0, ..., 1, 1, 1],\n",
       "       [0, 1, 0, ..., 1, 1, 1],\n",
       "       [0, 0, 0, ..., 1, 1, 1],\n",
       "       ...,\n",
       "       [0, 0, 0, ..., 0, 0, 0],\n",
       "       [0, 0, 0, ..., 0, 0, 0],\n",
       "       [0, 0, 0, ..., 0, 0, 0]], dtype=int64)"
      ]
     },
     "execution_count": 12,
     "metadata": {},
     "output_type": "execute_result"
    }
   ],
   "source": [
    "x"
   ]
  },
  {
   "cell_type": "markdown",
   "id": "dfb0b925-9381-473a-bff2-314ae8d55ff8",
   "metadata": {},
   "source": [
    "## Split Dataset"
   ]
  },
  {
   "cell_type": "code",
   "execution_count": 13,
   "id": "2e6a0a7c",
   "metadata": {},
   "outputs": [],
   "source": [
    "# split data to 80/20 \n",
    "X_train, X_test, y_train, y_test = train_test_split(x, y, test_size=0.2, random_state=0)"
   ]
  },
  {
   "cell_type": "code",
   "execution_count": 14,
   "id": "f74cadc8",
   "metadata": {},
   "outputs": [
    {
     "data": {
      "text/plain": [
       "(1152, 12)"
      ]
     },
     "execution_count": 14,
     "metadata": {},
     "output_type": "execute_result"
    }
   ],
   "source": [
    "y_train.shape"
   ]
  },
  {
   "cell_type": "markdown",
   "id": "e00bfc89-1333-49cb-9ff9-1115763b2c8c",
   "metadata": {},
   "source": [
    "## Initialization of the parameters"
   ]
  },
  {
   "cell_type": "code",
   "execution_count": 15,
   "id": "65e1cc93",
   "metadata": {},
   "outputs": [],
   "source": [
    "##### Initialize variables\n",
    "learning_rate = 0.1\n",
    "iterations = 6000\n",
    "N = y_train.size\n",
    "\n",
    "# number of input features\n",
    "input_size = 57\n",
    "\n",
    "# number of hidden layers neurons\n",
    "hidden_size = 50\n",
    "\n",
    "# number of neurons at the output layer\n",
    "output_size = 12\n",
    "\n",
    "results = pd.DataFrame(columns=[\"mse\", \"accuracy\"])"
   ]
  },
  {
   "cell_type": "code",
   "execution_count": 16,
   "id": "90f0564e",
   "metadata": {},
   "outputs": [],
   "source": [
    "# Initialize weights\n",
    "np.random.seed(10)\n",
    "\n",
    "\n",
    "# initializing weight for the hidden layer\n",
    "W1 = np.random.normal(scale=0.5, size=(input_size, hidden_size))\n",
    "\n",
    "# initializing weight for the output layer\n",
    "W2 = np.random.normal(scale=0.5, size=(hidden_size , output_size)) "
   ]
  },
  {
   "cell_type": "markdown",
   "id": "15d02873-4882-4fdb-9d64-9d79113995ca",
   "metadata": {},
   "source": [
    "## Function for Backpropagation"
   ]
  },
  {
   "cell_type": "code",
   "execution_count": 17,
   "id": "4a612dac",
   "metadata": {},
   "outputs": [],
   "source": [
    "def sigmoid(x):\n",
    "    return 1 / (1 + np.exp(-x))\n",
    "\n",
    "def mean_squared_error(y_pred, y_true):\n",
    "    return ((y_pred - y_true)**2).sum() / (2*y_pred.size)\n",
    "    \n",
    "def accuracy(y_pred, y_true):\n",
    "    acc = y_pred.argmax(axis=1) == y_true.argmax(axis=1)\n",
    "    return acc.mean()"
   ]
  },
  {
   "cell_type": "markdown",
   "id": "18a3f916-d397-4de8-9f29-e433ea05d1bc",
   "metadata": {},
   "source": [
    "## Backpropagation Process"
   ]
  },
  {
   "cell_type": "code",
   "execution_count": 18,
   "id": "aed1709d",
   "metadata": {},
   "outputs": [],
   "source": [
    "for itr in range(iterations):    \n",
    "    \n",
    "    # feedforward propagation\n",
    "    # on hidden layer\n",
    "    Z1 = np.dot(X_train, W1)\n",
    "    A1 = sigmoid(Z1)\n",
    "\n",
    "    # on output layer\n",
    "    Z2 = np.dot(A1, W2)\n",
    "    A2 = sigmoid(Z2)\n",
    "    \n",
    "    \n",
    "    # Calculating error\n",
    "    mse = mean_squared_error(A2, y_train)\n",
    "    acc = accuracy(A2, y_train)\n",
    "    results=results.append({\"mse\":mse, \"accuracy\":acc},ignore_index=True )\n",
    "    \n",
    "    # backpropagation\n",
    "    E1 = A2 - y_train\n",
    "    dW1 = E1 * A2 * (1 - A2)\n",
    "\n",
    "    E2 = np.dot(dW1, W2.T)\n",
    "    dW2 = E2 * A1 * (1 - A1)\n",
    "\n",
    "    \n",
    "    # weight updates\n",
    "    W2_update = np.dot(A1.T, dW1) / N\n",
    "    W1_update = np.dot(X_train.T, dW2) / N\n",
    "\n",
    "    W2 = W2 - learning_rate * W2_update\n",
    "    W1 = W1 - learning_rate * W1_update"
   ]
  },
  {
   "cell_type": "code",
   "execution_count": 19,
   "id": "3aaba1c5",
   "metadata": {},
   "outputs": [
    {
     "data": {
      "text/plain": [
       "array([ 4,  4,  8, ..., 10,  4,  5], dtype=int64)"
      ]
     },
     "execution_count": 19,
     "metadata": {},
     "output_type": "execute_result"
    }
   ],
   "source": [
    "A2.argmax(axis=1)"
   ]
  },
  {
   "cell_type": "markdown",
   "id": "9910d4c0-5672-41b1-bce0-da9613fed3cb",
   "metadata": {},
   "source": [
    "### Result Training"
   ]
  },
  {
   "cell_type": "code",
   "execution_count": 20,
   "id": "2ce66025-1f55-435d-8764-d725fa7b2c45",
   "metadata": {},
   "outputs": [
    {
     "data": {
      "text/plain": [
       "<AxesSubplot:title={'center':'Mean Squared Error'}>"
      ]
     },
     "execution_count": 20,
     "metadata": {},
     "output_type": "execute_result"
    },
    {
     "data": {
      "image/png": "[encoded data removed]",
      "text/plain": [
       "<Figure size 432x288 with 1 Axes>"
      ]
     },
     "metadata": {
      "needs_background": "light"
     },
     "output_type": "display_data"
    }
   ],
   "source": [
    "results.mse.plot(title=\"Mean Squared Error\")"
   ]
  },
  {
   "cell_type": "code",
   "execution_count": 21,
   "id": "b8630b2d-f209-4dda-a318-21fddae5e1b9",
   "metadata": {},
   "outputs": [
    {
     "name": "stdout",
     "output_type": "stream",
     "text": [
      "Accuracy: 0.8185763888888888\n"
     ]
    },
    {
     "data": {
      "text/plain": [
       "<AxesSubplot:title={'center':'Accuracy'}>"
      ]
     },
     "execution_count": 21,
     "metadata": {},
     "output_type": "execute_result"
    },
    {
     "data": {
      "image/png": "[encoded data removed]",
      "text/plain": [
       "<Figure size 432x288 with 1 Axes>"
      ]
     },
     "metadata": {
      "needs_background": "light"
     },
     "output_type": "display_data"
    }
   ],
   "source": [
    "print(\"Accuracy: {}\".format(acc))\n",
    "results.accuracy.plot(title=\"Accuracy\")"
   ]
  },
  {
   "cell_type": "markdown",
   "id": "14832c9f-7393-4251-ae87-9e34cfb2d0d2",
   "metadata": {},
   "source": [
    "## Testing "
   ]
  },
  {
   "cell_type": "code",
   "execution_count": 22,
   "id": "f97603cd-861c-4faa-99f8-97bc1d4b4aac",
   "metadata": {},
   "outputs": [
    {
     "name": "stdout",
     "output_type": "stream",
     "text": [
      "Accuracy: 0.8506944444444444\n"
     ]
    }
   ],
   "source": [
    "## TEST\n",
    "# feedforward\n",
    "Z1 = np.dot(X_test, W1)\n",
    "A1 = sigmoid(Z1)\n",
    "\n",
    "Z2 = np.dot(A1, W2)\n",
    "A2 = sigmoid(Z2)\n",
    "\n",
    "acc = accuracy(A2, y_test)\n",
    "print(\"Accuracy: {}\".format(acc))"
   ]
  },
  {
   "cell_type": "code",
   "execution_count": 23,
   "id": "f21f682f-e155-4f6d-904d-95a6b7d870ac",
   "metadata": {},
   "outputs": [],
   "source": [
    "# results_test = pd.DataFrame(columns=[\"mse\", \"accuracy\"]) \n",
    "# results_test=results.append({\"mse\":mse, \"accuracy\":acc},ignore_index=True )\n",
    "# results_test"
   ]
  },
  {
   "cell_type": "code",
   "execution_count": 24,
   "id": "7d8292db-50c4-42d1-b9d3-087a06ac89c0",
   "metadata": {},
   "outputs": [
    {
     "data": {
      "text/plain": [
       "array([ 0,  8, 10,  2,  1,  3,  4,  2,  3,  9,  5,  5,  1,  5, 11,  2,  5,\n",
       "        8,  8, 10,  1,  2,  5, 11, 11,  7,  1,  1,  8,  1,  0,  1,  8,  2,\n",
       "        8,  5,  9,  6,  0,  3,  0,  0,  2,  0,  8,  9,  2, 11,  6,  8,  9,\n",
       "        4,  7,  1,  1,  5,  4,  8,  9,  2, 10, 10,  3,  7,  1,  5,  6,  4,\n",
       "        8,  1,  2,  7, 10, 11,  4,  6,  8,  3, 11,  9,  4,  8,  2, 10,  3,\n",
       "        8,  6,  0,  9,  7,  6, 10,  3,  2, 10, 10,  2,  8, 11,  7,  3,  9,\n",
       "       10,  2,  7,  7, 10, 11,  0,  4,  8,  1,  7,  4,  8, 10,  0,  8,  4,\n",
       "        6,  9,  1,  3,  9,  5,  0,  6, 11,  0, 10,  4, 10, 11,  2,  6,  1,\n",
       "        4,  7,  8,  8, 10, 11,  0,  6,  1,  9,  4,  5,  2,  3,  9, 11,  9,\n",
       "        6, 11,  4,  0,  3,  3,  4,  5,  4,  4,  1,  2,  7,  3,  9,  9, 11,\n",
       "        9,  0,  5, 10,  2, 11, 11, 10,  4,  0,  3,  8,  0,  8,  5,  0,  8,\n",
       "        4,  4,  6, 11,  3, 11,  3,  7,  4,  1,  7,  8,  6,  3,  0,  2,  4,\n",
       "        7,  0,  0,  5,  8,  8,  1,  3,  4,  4,  0, 10,  9,  7,  8, 10,  9,\n",
       "        0,  1,  7, 10,  3,  2,  5,  1, 10,  7,  3,  8,  0,  0,  7, 11,  5,\n",
       "        9,  7, 10,  5,  2, 10,  7,  2,  1,  1, 10,  2,  9,  7,  7,  0,  5,\n",
       "        8,  6,  3,  7, 10,  8,  2,  4, 11, 10,  0,  3,  3,  0,  6,  3,  5,\n",
       "        0, 11,  0,  3, 10,  7,  2,  5,  3,  6,  1,  1,  0,  8, 10,  6],\n",
       "      dtype=int64)"
      ]
     },
     "execution_count": 24,
     "metadata": {},
     "output_type": "execute_result"
    }
   ],
   "source": [
    "y_test.argmax(axis=1)"
   ]
  },
  {
   "cell_type": "code",
   "execution_count": 25,
   "id": "224e0c45-1ce0-4312-a778-70cbfcf90f12",
   "metadata": {},
   "outputs": [
    {
     "data": {
      "text/plain": [
       "array([ 0,  8, 10,  2,  1,  3,  4,  2,  3,  7,  5,  5,  1,  5,  6,  2,  5,\n",
       "        8,  8, 10,  1,  2,  5,  6,  6,  7,  1,  1,  8,  1,  0,  1,  8,  2,\n",
       "        8,  5, 10,  6,  0,  3,  0,  0,  2,  0,  8,  8,  2,  0,  6,  8,  7,\n",
       "        4,  7,  1,  1,  5,  4,  8, 10,  2, 10, 10,  3,  7,  1,  5,  6,  4,\n",
       "        8,  3,  2,  7, 10,  0,  4,  6,  8,  3,  6, 10,  4,  8,  2, 10,  3,\n",
       "        8,  6,  0, 10,  7,  6, 10,  3,  2, 10, 10,  2,  8,  6,  7,  3, 10,\n",
       "       10,  2,  7,  7, 10,  6,  0,  4,  8,  1,  7,  4,  8, 10,  0,  8,  4,\n",
       "        6, 10,  1,  3, 11,  5,  0,  6,  6,  0, 10,  4, 10,  6,  2,  6,  1,\n",
       "        4,  7,  8,  8, 10,  0,  0,  6,  1,  0,  4,  5,  2,  3, 10,  6, 10,\n",
       "        6,  6,  4,  0,  3,  3,  4,  5,  4,  4,  1,  2,  7,  3, 10, 10,  0,\n",
       "        0,  0,  5, 10,  2,  6,  6, 10,  4,  0,  3,  8,  0,  8,  5,  0,  8,\n",
       "        4,  4,  6,  6,  3,  6,  3,  7,  4,  1,  7,  8,  6,  3,  0,  2,  4,\n",
       "        7,  0,  0,  5,  8,  8,  1,  3,  4,  4,  0, 10, 10,  7,  8, 10, 10,\n",
       "        0,  1,  7, 10,  3,  2,  5,  1, 10,  7,  3,  8,  0,  0,  7,  0,  5,\n",
       "       10,  7, 10,  5,  2, 10,  7,  2,  3,  1, 10,  2, 10,  7,  7,  0,  5,\n",
       "        8,  6,  3,  7, 10,  8,  2,  4,  6, 10,  0,  3,  3,  0,  6,  3,  5,\n",
       "        0,  1,  0,  3, 10,  7,  2,  5,  3,  6,  1,  1,  0,  8, 10,  6],\n",
       "      dtype=int64)"
      ]
     },
     "execution_count": 25,
     "metadata": {},
     "output_type": "execute_result"
    }
   ],
   "source": [
    "A2.argmax(axis=1)"
   ]
  },
  {
   "cell_type": "code",
   "execution_count": 26,
   "id": "c2517d4b-ad1a-434a-93b4-bf3f0496560f",
   "metadata": {},
   "outputs": [
    {
     "name": "stderr",
     "output_type": "stream",
     "text": [
      "C:\\Users\\Izzham\\anaconda3\\lib\\site-packages\\pandas\\core\\indexing.py:1732: SettingWithCopyWarning: \n",
      "A value is trying to be set on a copy of a slice from a DataFrame\n",
      "\n",
      "See the caveats in the documentation: https://pandas.pydata.org/pandas-docs/stable/user_guide/indexing.html#returning-a-view-versus-a-copy\n",
      "  self._setitem_single_block(indexer, value, name)\n"
     ]
    }
   ],
   "source": [
    "predictions_df = pd.DataFrame( list(A2.argmax(axis=1)), list(y_test.argmax(axis=1)) , columns=['predicted'] )\n",
    "predictions_df = predictions_df.reset_index()\n",
    "predictions_df = predictions_df.rename(columns={'index':'prognosis'})\n",
    "\n",
    "predictions_df['result'] = ''\n",
    "\n",
    "for x in range(len(predictions_df)) :\n",
    "    if predictions_df['prognosis'][x] == predictions_df['predicted'][x] :\n",
    "        predictions_df['result'].iloc[x]='Correct'\n",
    "    else :\n",
    "        predictions_df['result'].iloc[x]='Incorrect'"
   ]
  },
  {
   "cell_type": "code",
   "execution_count": 27,
   "id": "3e851dfa-4eba-488d-8258-651cc2078df3",
   "metadata": {},
   "outputs": [
    {
     "data": {
      "text/html": [
       "<div>\n",
       "<style scoped>\n",
       "    .dataframe tbody tr th:only-of-type {\n",
       "        vertical-align: middle;\n",
       "    }\n",
       "\n",
       "    .dataframe tbody tr th {\n",
       "        vertical-align: top;\n",
       "    }\n",
       "\n",
       "    .dataframe thead th {\n",
       "        text-align: right;\n",
       "    }\n",
       "</style>\n",
       "<table border=\"1\" class=\"dataframe\">\n",
       "  <thead>\n",
       "    <tr style=\"text-align: right;\">\n",
       "      <th></th>\n",
       "      <th>prognosis</th>\n",
       "      <th>predicted</th>\n",
       "      <th>result</th>\n",
       "    </tr>\n",
       "  </thead>\n",
       "  <tbody>\n",
       "    <tr>\n",
       "      <th>0</th>\n",
       "      <td>0</td>\n",
       "      <td>0</td>\n",
       "      <td>Correct</td>\n",
       "    </tr>\n",
       "    <tr>\n",
       "      <th>1</th>\n",
       "      <td>8</td>\n",
       "      <td>8</td>\n",
       "      <td>Correct</td>\n",
       "    </tr>\n",
       "    <tr>\n",
       "      <th>2</th>\n",
       "      <td>10</td>\n",
       "      <td>10</td>\n",
       "      <td>Correct</td>\n",
       "    </tr>\n",
       "    <tr>\n",
       "      <th>3</th>\n",
       "      <td>2</td>\n",
       "      <td>2</td>\n",
       "      <td>Correct</td>\n",
       "    </tr>\n",
       "    <tr>\n",
       "      <th>4</th>\n",
       "      <td>1</td>\n",
       "      <td>1</td>\n",
       "      <td>Correct</td>\n",
       "    </tr>\n",
       "    <tr>\n",
       "      <th>...</th>\n",
       "      <td>...</td>\n",
       "      <td>...</td>\n",
       "      <td>...</td>\n",
       "    </tr>\n",
       "    <tr>\n",
       "      <th>283</th>\n",
       "      <td>1</td>\n",
       "      <td>1</td>\n",
       "      <td>Correct</td>\n",
       "    </tr>\n",
       "    <tr>\n",
       "      <th>284</th>\n",
       "      <td>0</td>\n",
       "      <td>0</td>\n",
       "      <td>Correct</td>\n",
       "    </tr>\n",
       "    <tr>\n",
       "      <th>285</th>\n",
       "      <td>8</td>\n",
       "      <td>8</td>\n",
       "      <td>Correct</td>\n",
       "    </tr>\n",
       "    <tr>\n",
       "      <th>286</th>\n",
       "      <td>10</td>\n",
       "      <td>10</td>\n",
       "      <td>Correct</td>\n",
       "    </tr>\n",
       "    <tr>\n",
       "      <th>287</th>\n",
       "      <td>6</td>\n",
       "      <td>6</td>\n",
       "      <td>Correct</td>\n",
       "    </tr>\n",
       "  </tbody>\n",
       "</table>\n",
       "<p>288 rows × 3 columns</p>\n",
       "</div>"
      ],
      "text/plain": [
       "     prognosis  predicted   result\n",
       "0            0          0  Correct\n",
       "1            8          8  Correct\n",
       "2           10         10  Correct\n",
       "3            2          2  Correct\n",
       "4            1          1  Correct\n",
       "..         ...        ...      ...\n",
       "283          1          1  Correct\n",
       "284          0          0  Correct\n",
       "285          8          8  Correct\n",
       "286         10         10  Correct\n",
       "287          6          6  Correct\n",
       "\n",
       "[288 rows x 3 columns]"
      ]
     },
     "execution_count": 27,
     "metadata": {},
     "output_type": "execute_result"
    }
   ],
   "source": [
    "predictions_df"
   ]
  },
  {
   "cell_type": "code",
   "execution_count": 28,
   "id": "b3cc6131-3ec2-4612-8f04-2b729d906062",
   "metadata": {},
   "outputs": [
    {
     "name": "stdout",
     "output_type": "stream",
     "text": [
      "245 correct prediction out of 288\n"
     ]
    }
   ],
   "source": [
    "correct = len(predictions_df[predictions_df['result']=='Correct'])\n",
    "total = len(predictions_df)\n",
    "print(f'{correct} correct prediction out of {total}')"
   ]
  },
  {
   "cell_type": "code",
   "execution_count": 30,
   "id": "9fd8414c-b902-4563-86e8-23697f1f15e1",
   "metadata": {},
   "outputs": [],
   "source": [
    "# list(A2.argmax(axis=1))"
   ]
  },
  {
   "cell_type": "code",
   "execution_count": 31,
   "id": "5f05e948-ef98-4c8d-8527-8b65579c607a",
   "metadata": {},
   "outputs": [],
   "source": [
    "# list(y_test.argmax(axis=1)"
   ]
  }
 ],
 "metadata": {
  "kernelspec": {
   "display_name": "Python 3 (ipykernel)",
   "language": "python",
   "name": "python3"
  },
  "language_info": {
   "codemirror_mode": {
    "name": "ipython",
    "version": 3
   },
   "file_extension": ".py",
   "mimetype": "text/x-python",
   "name": "python",
   "nbconvert_exporter": "python",
   "pygments_lexer": "ipython3",
   "version": "3.9.7"
  }
 },
 "nbformat": 4,
 "nbformat_minor": 5
}
