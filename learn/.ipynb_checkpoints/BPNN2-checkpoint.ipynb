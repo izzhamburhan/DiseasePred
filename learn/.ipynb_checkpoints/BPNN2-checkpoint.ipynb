{
 "cells": [
  {
   "cell_type": "code",
   "execution_count": 25,
   "id": "9698bacb-e6ac-42e8-b85e-7f94e492fbf7",
   "metadata": {},
   "outputs": [],
   "source": [
    "# Import Libraries\n",
    "import numpy as np\n",
    "import pandas as pd\n",
    "from sklearn.model_selection import train_test_split\n",
    "import matplotlib.pyplot as plt"
   ]
  },
  {
   "cell_type": "code",
   "execution_count": 26,
   "id": "afb47cc1-2aba-4124-b6dd-a67b6360a66c",
   "metadata": {},
   "outputs": [
    {
     "name": "stdout",
     "output_type": "stream",
     "text": [
      "[[1. 1. 1. ... 1. 1. 1.]\n",
      " [1. 1. 1. ... 0. 1. 1.]\n",
      " [1. 1. 1. ... 1. 0. 1.]\n",
      " ...\n",
      " [0. 1. 0. ... 1. 0. 0.]\n",
      " [0. 1. 0. ... 1. 0. 0.]\n",
      " [0. 1. 0. ... 1. 0. 0.]]\n"
     ]
    }
   ],
   "source": [
    "array = np.loadtxt('Training_MD.csv', skiprows=1, delimiter=',')\n",
    "print(array)"
   ]
  },
  {
   "cell_type": "code",
   "execution_count": 27,
   "id": "3c4739bc-d8da-4211-bb17-8ba294a311b2",
   "metadata": {},
   "outputs": [],
   "source": [
    "# Initialize a network\n",
    "def initialize_network(n_inputs, n_hidden, n_outputs):\n",
    "    network = list()\n",
    "    hidden_layer = [{'weights':[random() for i in range(n_inputs + 1)]} for i in range(n_hidden)]\n",
    "    network.append(hidden_layer)\n",
    "    output_layer = [{'weights':[random() for i in range(n_hidden + 1)]} for i in range(n_outputs)]\n",
    "    network.append(output_layer)\n",
    "    return network\n",
    "\n"
   ]
  },
  {
   "cell_type": "code",
   "execution_count": 5,
   "id": "2ab540a0-3b84-4f05-9e1f-3fb1cec42f03",
   "metadata": {},
   "outputs": [
    {
     "name": "stdout",
     "output_type": "stream",
     "text": [
      "[{'weights': [0.13436424411240122, 0.8474337369372327, 0.763774618976614, 0.2550690257394217, 0.49543508709194095, 0.4494910647887381, 0.651592972722763, 0.7887233511355132, 0.0938595867742349, 0.02834747652200631, 0.8357651039198697, 0.43276706790505337, 0.762280082457942, 0.0021060533511106927, 0.4453871940548014, 0.7215400323407826, 0.22876222127045265, 0.9452706955539223]}, {'weights': [0.9014274576114836, 0.030589983033553536, 0.0254458609934608, 0.5414124727934966, 0.9391491627785106, 0.38120423768821243, 0.21659939713061338, 0.4221165755827173, 0.029040787574867943, 0.22169166627303505, 0.43788759365057206, 0.49581224138185065, 0.23308445025757263, 0.2308665415409843, 0.2187810373376886, 0.4596034657377336, 0.28978161459048557, 0.021489705265908876]}]\n",
      "[{'weights': [0.8375779756625729, 0.5564543226524334, 0.6422943629324456]}, {'weights': [0.1859062658947177, 0.9925434121760651, 0.8599465287952899]}]\n"
     ]
    }
   ],
   "source": [
    "#testing\n",
    "from random import seed\n",
    "from random import random\n",
    " \n",
    "# Initialize a network\n",
    "def initialize_network(n_inputs, n_hidden, n_outputs):\n",
    "\tnetwork = list()\n",
    "\thidden_layer = [{'weights':[random() for i in range(n_inputs + 1)]} for i in range(n_hidden)]\n",
    "\tnetwork.append(hidden_layer)\n",
    "\toutput_layer = [{'weights':[random() for i in range(n_hidden + 1)]} for i in range(n_outputs)]\n",
    "\tnetwork.append(output_layer)\n",
    "\treturn network\n",
    "    \n",
    " \n",
    " \n",
    "seed(1)\n",
    "network = initialize_network(17, 2, 2)\n",
    "for layer in network:\n",
    " print(layer)\n",
    "\n"
   ]
  },
  {
   "cell_type": "markdown",
   "id": "ee7ac2ba-e6e7-4eec-8028-3be0f52f1183",
   "metadata": {},
   "source": [
    "# 2. Forward Propagate"
   ]
  },
  {
   "cell_type": "markdown",
   "id": "755a08fb-668c-4d47-85ed-af4180deaa7c",
   "metadata": {},
   "source": [
    "## 2.1 Neuron Activation"
   ]
  },
  {
   "cell_type": "code",
   "execution_count": 29,
   "id": "7271b61e-d06d-43ea-af5b-95804e79410a",
   "metadata": {},
   "outputs": [],
   "source": [
    "\n",
    "# Calculate neuron activation for an input\n",
    "def activate(weights, inputs):\n",
    "    activation = weights[-1]\n",
    "    for i in range(len(weights)-1):\n",
    "        activation += weights[i] * inputs[i]\n",
    "    return activation"
   ]
  },
  {
   "cell_type": "markdown",
   "id": "5702d746-aab2-48fc-81e5-9e34cde11348",
   "metadata": {},
   "source": [
    "## 2.2 Neuron Transfer"
   ]
  },
  {
   "cell_type": "code",
   "execution_count": 30,
   "id": "ee0240b2-7c7d-4152-93ca-16e63c261166",
   "metadata": {},
   "outputs": [],
   "source": [
    "# transfer neuron activation\n",
    "def transfer(activation):\n",
    "    return 1.0/(1.0 + exp(-activation))"
   ]
  },
  {
   "cell_type": "markdown",
   "id": "2be6cf8b-607b-4fa8-a84a-4b8c2e99e29f",
   "metadata": {},
   "source": [
    "## 2.3 Forward Propagation"
   ]
  },
  {
   "cell_type": "code",
   "execution_count": 31,
   "id": "c23244c3-04a9-461f-a1fa-ed16a8b4fbdc",
   "metadata": {},
   "outputs": [],
   "source": [
    "# Forward propagate input to a network output\n",
    "\n",
    "def forward_propagate(network, row):\n",
    "    inputs = row\n",
    "    for layer in network:\n",
    "        new_inputs = []\n",
    "        for neuron in layer:\n",
    "            activation = activate(neuron['weights'],inputs)\n",
    "            neuron['output'] = transfer(activation)\n",
    "            new_inputs.append(neuron['output'])\n",
    "        inputs = new_inputs\n",
    "    return inputs"
   ]
  },
  {
   "cell_type": "markdown",
   "id": "acfa6746-c6de-4c86-8f85-13ddba3238cd",
   "metadata": {},
   "source": [
    "\n"
   ]
  },
  {
   "cell_type": "code",
   "execution_count": 39,
   "id": "19c894fd-b517-4d3f-aef4-08dc1c0540f1",
   "metadata": {},
   "outputs": [],
   "source": [
    "# ## test forward propagation\n",
    "\n",
    "# from math import exp\n",
    "\n",
    "# network = [[{'weights': [0.13436424411240122, 0.8474337369372327, 0.763774618976614, 0.2550690257394217, 0.49543508709194095, 0.4494910647887381, 0.651592972722763, 0.7887233511355132, 0.0938595867742349, 0.02834747652200631, 0.8357651039198697, 0.43276706790505337, 0.762280082457942, 0.0021060533511106927, 0.4453871940548014, 0.7215400323407826, 0.22876222127045265, 0.9452706955539223]}, {'weights': [0.9014274576114836, 0.030589983033553536, 0.0254458609934608, 0.5414124727934966, 0.9391491627785106, 0.38120423768821243, 0.21659939713061338, 0.4221165755827173, 0.029040787574867943, 0.22169166627303505, 0.43788759365057206, 0.49581224138185065, 0.23308445025757263, 0.2308665415409843, 0.2187810373376886, 0.4596034657377336, 0.28978161459048557, 0.021489705265908876]}]\n",
    "# [{'weights': [0.8375779756625729, 0.5564543226524334, 0.6422943629324456]}]]\n",
    "\n",
    "# row = [0,1,0,1,0,1,1,1,1,0,0,0,1,0,1,0]\n",
    "\n",
    "# output = forward_propagation(network, row)\n"
   ]
  },
  {
   "cell_type": "code",
   "execution_count": 38,
   "id": "89cd6a35-7f89-464f-a8e2-3a14dad66ae7",
   "metadata": {},
   "outputs": [
    {
     "name": "stdout",
     "output_type": "stream",
     "text": [
      "[0.6629970129852887, 0.7253160725279748]\n"
     ]
    }
   ],
   "source": [
    "\n",
    "# test forward propagation\n",
    "network = [[{'weights': [0.13436424411240122, 0.8474337369372327, 0.763774618976614]}], [{'weights': [0.2550690257394217, 0.49543508709194095]}, {'weights': [0.4494910647887381, 0.651592972722763]}]]\n",
    "row = [1, 0, None]\n",
    "output = forward_propagate(network, row)\n",
    "print(output)"
   ]
  },
  {
   "cell_type": "markdown",
   "id": "cff1a324-2677-4397-9881-144e4e63d1bc",
   "metadata": {},
   "source": [
    "# 3. Back Propagate Error"
   ]
  },
  {
   "cell_type": "markdown",
   "id": "8c193104-f82c-4dd1-85c7-a8c3d67e6bb9",
   "metadata": {},
   "source": [
    "## 3.1 Transfer Derivative"
   ]
  },
  {
   "cell_type": "code",
   "execution_count": 40,
   "id": "c527f951-10b9-4f81-802e-5ef8b0b7460a",
   "metadata": {},
   "outputs": [],
   "source": [
    "# Calculate the derivative of an neuron output\n",
    "def transfer_derivative(output):\n",
    "    return output * (1.0 - output)"
   ]
  },
  {
   "cell_type": "markdown",
   "id": "a76ce065-97fb-4f97-945b-170c26dc6b63",
   "metadata": {},
   "source": [
    "## 3.2 Error Backpropagation"
   ]
  },
  {
   "cell_type": "code",
   "execution_count": 48,
   "id": "e03033d6-7dda-483c-b832-9bc0e5240ee0",
   "metadata": {},
   "outputs": [],
   "source": [
    "# Backpropagate error and store in neurons\n",
    "def backward_propagate_error(network,expected):\n",
    "    for i in reversed(range(len(network))):\n",
    "        layer = network[i]\n",
    "        errors = list()\n",
    "        if i != len(network)-1 :\n",
    "            for j in range(len(layer)):\n",
    "                error = 0.0\n",
    "                for neuron in network[i + 1]:\n",
    "                    error += (neuron['weights'][j] * neuron['delta'])\n",
    "                errors.append(error)\n",
    "        else :\n",
    "            for j in range(len(layer)):\n",
    "                neuron = layer[j]\n",
    "                errors.append(neuron['output'] - expected[j])\n",
    "        for j in range(len(layer)):\n",
    "            neuron = layer[j]\n",
    "            neuron['delta'] = errors[j] * transfer_derivative(neuron['output'])"
   ]
  },
  {
   "cell_type": "code",
   "execution_count": 49,
   "id": "198d76f2-d66c-4adb-8e7a-76504e9bde5c",
   "metadata": {},
   "outputs": [
    {
     "name": "stdout",
     "output_type": "stream",
     "text": [
      "[{'output': 0.7105668883115941, 'weights': [0.13436424411240122, 0.8474337369372327, 0.763774618976614], 'delta': 0.0005348048046610517}]\n",
      "[{'output': 0.6213859615555266, 'weights': [0.2550690257394217, 0.49543508709194095], 'delta': 0.14619064683582808}, {'output': 0.6573693455986976, 'weights': [0.4494910647887381, 0.651592972722763], 'delta': -0.0771723774346327}]\n"
     ]
    }
   ],
   "source": [
    "# test backpropagation of error\n",
    "network = [[{'output': 0.7105668883115941, 'weights': [0.13436424411240122, 0.8474337369372327, 0.763774618976614]}],[{'output': 0.6213859615555266, 'weights': [0.2550690257394217, 0.49543508709194095]}, {'output': 0.6573693455986976, 'weights': [0.4494910647887381, 0.651592972722763]}]]\n",
    "expected = [0,1]\n",
    "\n",
    "backward_propagate_error(network,expected)\n",
    "for layer in network:\n",
    "    print(layer)"
   ]
  },
  {
   "cell_type": "markdown",
   "id": "0ef584ba-33da-46fb-a2f5-2b6f70efe8eb",
   "metadata": {},
   "source": [
    "\n",
    "\n",
    "# 4. Train Network"
   ]
  },
  {
   "cell_type": "markdown",
   "id": "0cc0e02b-fc21-4ab8-81e6-5942cb5de4e0",
   "metadata": {},
   "source": [
    "## 4.1 Update Weights"
   ]
  },
  {
   "cell_type": "code",
   "execution_count": 51,
   "id": "cf23473c-3e75-4b8f-9edf-1e3639429942",
   "metadata": {},
   "outputs": [],
   "source": [
    "# Update network weights with error\n",
    "def update_weights(network, row, l_rate):\n",
    "    for i in range(len(network)):\n",
    "        inputs = row[:-1]\n",
    "        if i !=0:\n",
    "            inputs = [neuron['output'] for neuron in network[i-1]]\n",
    "        for neuron in network[i]:\n",
    "            for j in range(len(inputs)):\n",
    "                neuron['weights'][j] -= l_rate*neuron['delta']*inputs[j]\n",
    "            neuron['weights'][-1] -= l_rate * neuron['delta']"
   ]
  },
  {
   "cell_type": "markdown",
   "id": "617a2ca5-f9c6-4de1-8cf6-8c39ba9f1a61",
   "metadata": {},
   "source": [
    "## 4.2 Train Network"
   ]
  },
  {
   "cell_type": "code",
   "execution_count": 52,
   "id": "29b10b02-64a9-42af-9c02-89a80aa53ab2",
   "metadata": {},
   "outputs": [],
   "source": [
    "# train a network for a fixed number of epochs\n",
    "def train_network(network, train, l_rate, n_epoch, n_outputs):\n",
    "    for epoch in range(n_epoch):\n",
    "        sum_error = 0\n",
    "        for row in train:\n",
    "            outputs = forward_propagate(network,row)\n",
    "            expected = [0 for i in range(n_outputs)]\n",
    "            expected[row[-1]] = 1\n",
    "            sum_error += sum([(expected[i]-outputs[i])**2 for i in range(len(expected))])\n",
    "            backward_propagate_error(network, expected)\n",
    "            update_weights(network, row, l_rate)\n",
    "        print('>epoch=%d, lrate=%.3f, error=%.3f' % (epoch, l_rate, sum_error))"
   ]
  },
  {
   "cell_type": "code",
   "execution_count": 80,
   "id": "f7c63de8-3308-4133-800f-d2a05335253a",
   "metadata": {},
   "outputs": [
    {
     "name": "stdout",
     "output_type": "stream",
     "text": [
      ">epoch=0, lrate=0.500, error=6.350\n",
      ">epoch=1, lrate=0.500, error=5.531\n",
      ">epoch=2, lrate=0.500, error=5.221\n",
      ">epoch=3, lrate=0.500, error=4.951\n",
      ">epoch=4, lrate=0.500, error=4.519\n",
      ">epoch=5, lrate=0.500, error=4.173\n",
      ">epoch=6, lrate=0.500, error=3.835\n",
      ">epoch=7, lrate=0.500, error=3.506\n",
      ">epoch=8, lrate=0.500, error=3.192\n",
      ">epoch=9, lrate=0.500, error=2.898\n",
      ">epoch=10, lrate=0.500, error=2.626\n",
      ">epoch=11, lrate=0.500, error=2.377\n",
      ">epoch=12, lrate=0.500, error=2.153\n",
      ">epoch=13, lrate=0.500, error=1.953\n",
      ">epoch=14, lrate=0.500, error=1.774\n",
      ">epoch=15, lrate=0.500, error=1.614\n",
      ">epoch=16, lrate=0.500, error=1.472\n",
      ">epoch=17, lrate=0.500, error=1.346\n",
      ">epoch=18, lrate=0.500, error=1.233\n",
      ">epoch=19, lrate=0.500, error=1.132\n",
      "[{'weights': [-1.4688375095432327, 1.850887325439514, 1.0858178629550297], 'output': 0.029980305604426185, 'delta': 0.0059546604162323625}, {'weights': [0.37711098142462157, -0.0625909894552989, 0.2765123702642716], 'output': 0.9456229000211323, 'delta': -0.0026279652850863837}]\n",
      "[{'weights': [2.515394649397849, -0.3391927502445985, -0.9671565426390275], 'output': 0.23648794202357587, 'delta': 0.04270059278364587}, {'weights': [-2.5584149848484263, 1.0036422106209202, 0.42383086467582715], 'output': 0.7790535202438367, 'delta': -0.03803132596437354}]\n"
     ]
    },
    {
     "data": {
      "text/plain": [
       "2"
      ]
     },
     "execution_count": 80,
     "metadata": {},
     "output_type": "execute_result"
    }
   ],
   "source": [
    "# Test training backprop algorithm\n",
    "seed(1)\n",
    "dataset = [[2.7810836,2.550537003,0],\n",
    " [1.465489372,2.362125076,0],\n",
    " [3.396561688,4.400293529,0],\n",
    " [1.38807019,1.850220317,0],\n",
    " [3.06407232,3.005305973,0],\n",
    " [7.627531214,2.759262235,1],\n",
    " [5.332441248,2.088626775,1],\n",
    " [6.922596716,1.77106367,1],\n",
    " [8.675418651,-0.242068655,1],\n",
    " [7.673756466,3.508563011,1]]\n",
    "n_inputs = len(dataset[0]) - 1\n",
    "n_outputs = len(set([row[-1] for row in dataset]))\n",
    "network = initialize_network(n_inputs, 2, n_outputs)\n",
    "train_network(network, dataset, 0.5, 20, n_outputs)\n",
    "for layer in network:\n",
    " print(layer)"
   ]
  },
  {
   "cell_type": "markdown",
   "id": "d2bdc065-dc3c-476d-b3c0-9f5a23c561a6",
   "metadata": {},
   "source": [
    "# Predict"
   ]
  },
  {
   "cell_type": "code",
   "execution_count": 55,
   "id": "0be8ed66-f9d5-4fe0-acbf-db7327380ff0",
   "metadata": {},
   "outputs": [],
   "source": [
    "# Make a prediction with a network\n",
    "def predict(network, row):\n",
    "    outputs = forward_propagate(network, row)\n",
    "    return outputs.index(max(outputs))"
   ]
  },
  {
   "cell_type": "code",
   "execution_count": 56,
   "id": "ac2c26f3-bc54-4a5e-a91f-b10aaa1078c5",
   "metadata": {},
   "outputs": [
    {
     "name": "stdout",
     "output_type": "stream",
     "text": [
      "Expected=0, Got=0\n",
      "Expected=0, Got=0\n",
      "Expected=0, Got=0\n",
      "Expected=0, Got=0\n",
      "Expected=0, Got=0\n",
      "Expected=1, Got=1\n",
      "Expected=1, Got=1\n",
      "Expected=1, Got=1\n",
      "Expected=1, Got=1\n",
      "Expected=1, Got=1\n"
     ]
    }
   ],
   "source": [
    "for row in dataset:\n",
    "    prediction = predict(network, row)\n",
    "    print('Expected=%d, Got=%d' % (row[-1], prediction))"
   ]
  },
  {
   "cell_type": "code",
   "execution_count": 72,
   "id": "d7db98f1-7c2c-4c2a-9f58-1bc7f4020d32",
   "metadata": {},
   "outputs": [],
   "source": [
    "\n",
    "# Load a CSV file\n",
    "def load_csv(filename):\n",
    "\tdataset = list()\n",
    "\twith open(filename, 'r') as file:\n",
    "\t\tcsv_reader = reader(file)\n",
    "\t\tfor row in csv_reader:\n",
    "\t\t\tif not row:\n",
    "\t\t\t\tcontinue\n",
    "\t\t\tdataset.append(row)\n",
    "\treturn dataset\n",
    "\n",
    "# Convert string column to float\n",
    "def str_column_to_float(dataset, column):\n",
    "\tfor row in dataset:\n",
    "\t\trow[column] = float(row[column].strip())\n",
    "\n",
    "# Convert string column to integer\n",
    "def str_column_to_int(dataset, column):\n",
    "\tclass_values = [row[column] for row in dataset]\n",
    "\tunique = set(class_values)\n",
    "\tlookup = dict()\n",
    "\tfor i, value in enumerate(unique):\n",
    "\t\tlookup[value] = i\n",
    "\tfor row in dataset:\n",
    "\t\trow[column] = lookup[row[column]]\n",
    "\treturn lookup\n",
    "\n",
    "# Find the min and max values for each column\n",
    "def dataset_minmax(dataset):\n",
    "\tminmax = list()\n",
    "\tstats = [[min(column), max(column)] for column in zip(*dataset)]\n",
    "\treturn stats\n",
    "\n",
    "# Rescale dataset columns to the range 0-1\n",
    "def normalize_dataset(dataset, minmax):\n",
    "\tfor row in dataset:\n",
    "\t\tfor i in range(len(row)-1):\n",
    "\t\t\trow[i] = (row[i] - minmax[i][0]) / (minmax[i][1] - minmax[i][0])\n",
    "\n",
    "# Split a dataset into k folds\n",
    "def cross_validation_split(dataset, n_folds):\n",
    "\tdataset_split = list()\n",
    "\tdataset_copy = list(dataset)\n",
    "\tfold_size = int(len(dataset) / n_folds)\n",
    "\tfor i in range(n_folds):\n",
    "\t\tfold = list()\n",
    "\t\twhile len(fold) < fold_size:\n",
    "\t\t\tindex = randrange(len(dataset_copy))\n",
    "\t\t\tfold.append(dataset_copy.pop(index))\n",
    "\t\tdataset_split.append(fold)\n",
    "\treturn dataset_split\n",
    "\n",
    "# Calculate accuracy percentage\n",
    "def accuracy_metric(actual, predicted):\n",
    "\tcorrect = 0\n",
    "\tfor i in range(len(actual)):\n",
    "\t\tif actual[i] == predicted[i]:\n",
    "\t\t\tcorrect += 1\n",
    "\treturn correct / float(len(actual)) * 100.0\n",
    "\n",
    "# Evaluate an algorithm using a cross validation split\n",
    "def evaluate_algorithm(dataset, algorithm, n_folds, *args):\n",
    "\tfolds = cross_validation_split(dataset, n_folds)\n",
    "\tscores = list()\n",
    "\tfor fold in folds:\n",
    "\t\ttrain_set = list(folds)\n",
    "\t\ttrain_set.remove(fold)\n",
    "\t\ttrain_set = sum(train_set, [])\n",
    "\t\ttest_set = list()\n",
    "\t\tfor row in fold:\n",
    "\t\t\trow_copy = list(row)\n",
    "\t\t\ttest_set.append(row_copy)\n",
    "\t\t\trow_copy[-1] = None\n",
    "\t\tpredicted = algorithm(train_set, test_set, *args)\n",
    "\t\tactual = [row[-1] for row in fold]\n",
    "\t\taccuracy = accuracy_metric(actual, predicted)\n",
    "\t\tscores.append(accuracy)\n",
    "\treturn scores\n",
    "\n",
    "# Backpropagation Algorithm With Stochastic Gradient Descent\n",
    "def back_propagation(train, test, l_rate, n_epoch, n_hidden):\n",
    "\tn_inputs = len(train[0]) - 1\n",
    "\tn_outputs = len(set([row[-1] for row in train]))\n",
    "\tnetwork = initialize_network(n_inputs, n_hidden, n_outputs)\n",
    "\ttrain_network(network, train, l_rate, n_epoch, n_outputs)\n",
    "\tpredictions = list()\n",
    "\tfor row in test:\n",
    "\t\tprediction = predict(network, row)\n",
    "\t\tpredictions.append(prediction)\n",
    "\treturn(predictions)"
   ]
  },
  {
   "cell_type": "markdown",
   "id": "19f68e0c-8a14-4f0f-9fb7-5a64d95dc3e4",
   "metadata": {},
   "source": [
    "# Real World Project"
   ]
  },
  {
   "cell_type": "code",
   "execution_count": 77,
   "id": "e8f0e9e1-978e-4ffb-ae96-b71f10d5c457",
   "metadata": {
    "tags": []
   },
   "outputs": [
    {
     "name": "stdout",
     "output_type": "stream",
     "text": [
      ">epoch=0, lrate=1.000, error=99.434\n",
      ">epoch=1, lrate=1.000, error=97.435\n",
      ">epoch=2, lrate=1.000, error=22.398\n",
      ">epoch=3, lrate=1.000, error=5.046\n",
      ">epoch=4, lrate=1.000, error=2.748\n",
      ">epoch=5, lrate=1.000, error=1.867\n",
      ">epoch=6, lrate=1.000, error=1.406\n",
      ">epoch=7, lrate=1.000, error=1.124\n",
      ">epoch=8, lrate=1.000, error=0.935\n",
      ">epoch=9, lrate=1.000, error=0.799\n",
      ">epoch=10, lrate=1.000, error=0.697\n",
      ">epoch=11, lrate=1.000, error=0.618\n",
      ">epoch=12, lrate=1.000, error=0.555\n",
      ">epoch=13, lrate=1.000, error=0.503\n",
      ">epoch=14, lrate=1.000, error=0.460\n",
      ">epoch=15, lrate=1.000, error=0.424\n",
      ">epoch=16, lrate=1.000, error=0.393\n",
      ">epoch=17, lrate=1.000, error=0.366\n",
      ">epoch=18, lrate=1.000, error=0.342\n",
      ">epoch=19, lrate=1.000, error=0.321\n",
      ">epoch=20, lrate=1.000, error=0.303\n",
      ">epoch=21, lrate=1.000, error=0.287\n",
      ">epoch=22, lrate=1.000, error=0.272\n",
      ">epoch=23, lrate=1.000, error=0.259\n",
      ">epoch=24, lrate=1.000, error=0.247\n",
      ">epoch=25, lrate=1.000, error=0.236\n",
      ">epoch=26, lrate=1.000, error=0.225\n",
      ">epoch=27, lrate=1.000, error=0.216\n",
      ">epoch=28, lrate=1.000, error=0.208\n",
      ">epoch=29, lrate=1.000, error=0.200\n",
      ">epoch=30, lrate=1.000, error=0.192\n",
      ">epoch=31, lrate=1.000, error=0.186\n",
      ">epoch=32, lrate=1.000, error=0.179\n",
      ">epoch=33, lrate=1.000, error=0.173\n",
      ">epoch=34, lrate=1.000, error=0.168\n",
      ">epoch=35, lrate=1.000, error=0.162\n",
      ">epoch=36, lrate=1.000, error=0.158\n",
      ">epoch=37, lrate=1.000, error=0.153\n",
      ">epoch=38, lrate=1.000, error=0.149\n",
      ">epoch=39, lrate=1.000, error=0.144\n",
      ">epoch=40, lrate=1.000, error=0.141\n",
      ">epoch=41, lrate=1.000, error=0.137\n",
      ">epoch=42, lrate=1.000, error=0.133\n",
      ">epoch=43, lrate=1.000, error=0.130\n",
      ">epoch=44, lrate=1.000, error=0.127\n",
      ">epoch=45, lrate=1.000, error=0.124\n",
      ">epoch=46, lrate=1.000, error=0.121\n",
      ">epoch=47, lrate=1.000, error=0.118\n",
      ">epoch=48, lrate=1.000, error=0.116\n",
      ">epoch=49, lrate=1.000, error=0.113\n",
      ">epoch=0, lrate=1.000, error=100.418\n",
      ">epoch=1, lrate=1.000, error=93.023\n",
      ">epoch=2, lrate=1.000, error=16.817\n",
      ">epoch=3, lrate=1.000, error=4.625\n",
      ">epoch=4, lrate=1.000, error=2.610\n",
      ">epoch=5, lrate=1.000, error=1.800\n",
      ">epoch=6, lrate=1.000, error=1.367\n",
      ">epoch=7, lrate=1.000, error=1.099\n",
      ">epoch=8, lrate=1.000, error=0.917\n",
      ">epoch=9, lrate=1.000, error=0.786\n",
      ">epoch=10, lrate=1.000, error=0.687\n",
      ">epoch=11, lrate=1.000, error=0.610\n",
      ">epoch=12, lrate=1.000, error=0.548\n",
      ">epoch=13, lrate=1.000, error=0.498\n",
      ">epoch=14, lrate=1.000, error=0.456\n",
      ">epoch=15, lrate=1.000, error=0.420\n",
      ">epoch=16, lrate=1.000, error=0.389\n",
      ">epoch=17, lrate=1.000, error=0.363\n",
      ">epoch=18, lrate=1.000, error=0.340\n",
      ">epoch=19, lrate=1.000, error=0.319\n",
      ">epoch=20, lrate=1.000, error=0.301\n",
      ">epoch=21, lrate=1.000, error=0.285\n",
      ">epoch=22, lrate=1.000, error=0.270\n",
      ">epoch=23, lrate=1.000, error=0.257\n",
      ">epoch=24, lrate=1.000, error=0.245\n",
      ">epoch=25, lrate=1.000, error=0.234\n",
      ">epoch=26, lrate=1.000, error=0.224\n",
      ">epoch=27, lrate=1.000, error=0.215\n",
      ">epoch=28, lrate=1.000, error=0.207\n",
      ">epoch=29, lrate=1.000, error=0.199\n",
      ">epoch=30, lrate=1.000, error=0.192\n",
      ">epoch=31, lrate=1.000, error=0.185\n",
      ">epoch=32, lrate=1.000, error=0.178\n",
      ">epoch=33, lrate=1.000, error=0.173\n",
      ">epoch=34, lrate=1.000, error=0.167\n",
      ">epoch=35, lrate=1.000, error=0.162\n",
      ">epoch=36, lrate=1.000, error=0.157\n",
      ">epoch=37, lrate=1.000, error=0.152\n",
      ">epoch=38, lrate=1.000, error=0.148\n",
      ">epoch=39, lrate=1.000, error=0.144\n",
      ">epoch=40, lrate=1.000, error=0.140\n",
      ">epoch=41, lrate=1.000, error=0.136\n",
      ">epoch=42, lrate=1.000, error=0.133\n",
      ">epoch=43, lrate=1.000, error=0.130\n",
      ">epoch=44, lrate=1.000, error=0.126\n",
      ">epoch=45, lrate=1.000, error=0.123\n",
      ">epoch=46, lrate=1.000, error=0.121\n",
      ">epoch=47, lrate=1.000, error=0.118\n",
      ">epoch=48, lrate=1.000, error=0.115\n",
      ">epoch=49, lrate=1.000, error=0.113\n",
      ">epoch=0, lrate=1.000, error=89.564\n",
      ">epoch=1, lrate=1.000, error=14.112\n",
      ">epoch=2, lrate=1.000, error=4.359\n",
      ">epoch=3, lrate=1.000, error=2.519\n",
      ">epoch=4, lrate=1.000, error=1.755\n",
      ">epoch=5, lrate=1.000, error=1.340\n",
      ">epoch=6, lrate=1.000, error=1.081\n",
      ">epoch=7, lrate=1.000, error=0.905\n",
      ">epoch=8, lrate=1.000, error=0.777\n",
      ">epoch=9, lrate=1.000, error=0.680\n",
      ">epoch=10, lrate=1.000, error=0.605\n",
      ">epoch=11, lrate=1.000, error=0.544\n",
      ">epoch=12, lrate=1.000, error=0.494\n",
      ">epoch=13, lrate=1.000, error=0.453\n",
      ">epoch=14, lrate=1.000, error=0.417\n",
      ">epoch=15, lrate=1.000, error=0.387\n",
      ">epoch=16, lrate=1.000, error=0.361\n",
      ">epoch=17, lrate=1.000, error=0.338\n",
      ">epoch=18, lrate=1.000, error=0.318\n",
      ">epoch=19, lrate=1.000, error=0.300\n",
      ">epoch=20, lrate=1.000, error=0.284\n",
      ">epoch=21, lrate=1.000, error=0.269\n",
      ">epoch=22, lrate=1.000, error=0.256\n",
      ">epoch=23, lrate=1.000, error=0.244\n",
      ">epoch=24, lrate=1.000, error=0.233\n",
      ">epoch=25, lrate=1.000, error=0.224\n",
      ">epoch=26, lrate=1.000, error=0.214\n",
      ">epoch=27, lrate=1.000, error=0.206\n",
      ">epoch=28, lrate=1.000, error=0.198\n",
      ">epoch=29, lrate=1.000, error=0.191\n",
      ">epoch=30, lrate=1.000, error=0.184\n",
      ">epoch=31, lrate=1.000, error=0.178\n",
      ">epoch=32, lrate=1.000, error=0.172\n",
      ">epoch=33, lrate=1.000, error=0.167\n",
      ">epoch=34, lrate=1.000, error=0.161\n",
      ">epoch=35, lrate=1.000, error=0.157\n",
      ">epoch=36, lrate=1.000, error=0.152\n",
      ">epoch=37, lrate=1.000, error=0.148\n",
      ">epoch=38, lrate=1.000, error=0.144\n",
      ">epoch=39, lrate=1.000, error=0.140\n",
      ">epoch=40, lrate=1.000, error=0.136\n",
      ">epoch=41, lrate=1.000, error=0.133\n",
      ">epoch=42, lrate=1.000, error=0.129\n",
      ">epoch=43, lrate=1.000, error=0.126\n",
      ">epoch=44, lrate=1.000, error=0.123\n",
      ">epoch=45, lrate=1.000, error=0.120\n",
      ">epoch=46, lrate=1.000, error=0.118\n",
      ">epoch=47, lrate=1.000, error=0.115\n",
      ">epoch=48, lrate=1.000, error=0.113\n",
      ">epoch=49, lrate=1.000, error=0.110\n",
      ">epoch=0, lrate=1.000, error=102.862\n",
      ">epoch=1, lrate=1.000, error=102.378\n",
      ">epoch=2, lrate=1.000, error=98.410\n",
      ">epoch=3, lrate=1.000, error=19.421\n",
      ">epoch=4, lrate=1.000, error=4.786\n",
      ">epoch=5, lrate=1.000, error=2.653\n",
      ">epoch=6, lrate=1.000, error=1.818\n",
      ">epoch=7, lrate=1.000, error=1.377\n",
      ">epoch=8, lrate=1.000, error=1.105\n",
      ">epoch=9, lrate=1.000, error=0.921\n",
      ">epoch=10, lrate=1.000, error=0.789\n",
      ">epoch=11, lrate=1.000, error=0.689\n",
      ">epoch=12, lrate=1.000, error=0.612\n",
      ">epoch=13, lrate=1.000, error=0.550\n",
      ">epoch=14, lrate=1.000, error=0.499\n",
      ">epoch=15, lrate=1.000, error=0.456\n",
      ">epoch=16, lrate=1.000, error=0.420\n",
      ">epoch=17, lrate=1.000, error=0.390\n",
      ">epoch=18, lrate=1.000, error=0.363\n",
      ">epoch=19, lrate=1.000, error=0.340\n",
      ">epoch=20, lrate=1.000, error=0.320\n",
      ">epoch=21, lrate=1.000, error=0.301\n",
      ">epoch=22, lrate=1.000, error=0.285\n",
      ">epoch=23, lrate=1.000, error=0.270\n",
      ">epoch=24, lrate=1.000, error=0.257\n",
      ">epoch=25, lrate=1.000, error=0.245\n",
      ">epoch=26, lrate=1.000, error=0.234\n",
      ">epoch=27, lrate=1.000, error=0.224\n",
      ">epoch=28, lrate=1.000, error=0.215\n",
      ">epoch=29, lrate=1.000, error=0.207\n",
      ">epoch=30, lrate=1.000, error=0.199\n",
      ">epoch=31, lrate=1.000, error=0.192\n",
      ">epoch=32, lrate=1.000, error=0.185\n",
      ">epoch=33, lrate=1.000, error=0.179\n",
      ">epoch=34, lrate=1.000, error=0.173\n",
      ">epoch=35, lrate=1.000, error=0.167\n",
      ">epoch=36, lrate=1.000, error=0.162\n",
      ">epoch=37, lrate=1.000, error=0.157\n",
      ">epoch=38, lrate=1.000, error=0.152\n",
      ">epoch=39, lrate=1.000, error=0.148\n",
      ">epoch=40, lrate=1.000, error=0.144\n",
      ">epoch=41, lrate=1.000, error=0.140\n",
      ">epoch=42, lrate=1.000, error=0.136\n",
      ">epoch=43, lrate=1.000, error=0.133\n",
      ">epoch=44, lrate=1.000, error=0.130\n",
      ">epoch=45, lrate=1.000, error=0.126\n",
      ">epoch=46, lrate=1.000, error=0.123\n",
      ">epoch=47, lrate=1.000, error=0.121\n",
      ">epoch=48, lrate=1.000, error=0.118\n",
      ">epoch=49, lrate=1.000, error=0.115\n",
      ">epoch=0, lrate=1.000, error=102.038\n",
      ">epoch=1, lrate=1.000, error=101.242\n",
      ">epoch=2, lrate=1.000, error=101.189\n",
      ">epoch=3, lrate=1.000, error=100.996\n",
      ">epoch=4, lrate=1.000, error=57.806\n",
      ">epoch=5, lrate=1.000, error=7.362\n",
      ">epoch=6, lrate=1.000, error=3.336\n",
      ">epoch=7, lrate=1.000, error=2.125\n",
      ">epoch=8, lrate=1.000, error=1.549\n",
      ">epoch=9, lrate=1.000, error=1.215\n",
      ">epoch=10, lrate=1.000, error=0.997\n",
      ">epoch=11, lrate=1.000, error=0.845\n",
      ">epoch=12, lrate=1.000, error=0.732\n",
      ">epoch=13, lrate=1.000, error=0.645\n",
      ">epoch=14, lrate=1.000, error=0.576\n",
      ">epoch=15, lrate=1.000, error=0.521\n",
      ">epoch=16, lrate=1.000, error=0.475\n",
      ">epoch=17, lrate=1.000, error=0.436\n",
      ">epoch=18, lrate=1.000, error=0.403\n",
      ">epoch=19, lrate=1.000, error=0.375\n",
      ">epoch=20, lrate=1.000, error=0.350\n",
      ">epoch=21, lrate=1.000, error=0.329\n",
      ">epoch=22, lrate=1.000, error=0.309\n",
      ">epoch=23, lrate=1.000, error=0.292\n",
      ">epoch=24, lrate=1.000, error=0.277\n",
      ">epoch=25, lrate=1.000, error=0.263\n",
      ">epoch=26, lrate=1.000, error=0.251\n",
      ">epoch=27, lrate=1.000, error=0.239\n",
      ">epoch=28, lrate=1.000, error=0.229\n",
      ">epoch=29, lrate=1.000, error=0.219\n",
      ">epoch=30, lrate=1.000, error=0.211\n",
      ">epoch=31, lrate=1.000, error=0.202\n",
      ">epoch=32, lrate=1.000, error=0.195\n",
      ">epoch=33, lrate=1.000, error=0.188\n",
      ">epoch=34, lrate=1.000, error=0.181\n",
      ">epoch=35, lrate=1.000, error=0.175\n",
      ">epoch=36, lrate=1.000, error=0.170\n",
      ">epoch=37, lrate=1.000, error=0.164\n",
      ">epoch=38, lrate=1.000, error=0.159\n",
      ">epoch=39, lrate=1.000, error=0.155\n",
      ">epoch=40, lrate=1.000, error=0.150\n",
      ">epoch=41, lrate=1.000, error=0.146\n",
      ">epoch=42, lrate=1.000, error=0.142\n",
      ">epoch=43, lrate=1.000, error=0.138\n",
      ">epoch=44, lrate=1.000, error=0.135\n",
      ">epoch=45, lrate=1.000, error=0.131\n",
      ">epoch=46, lrate=1.000, error=0.128\n",
      ">epoch=47, lrate=1.000, error=0.125\n",
      ">epoch=48, lrate=1.000, error=0.122\n",
      ">epoch=49, lrate=1.000, error=0.119\n",
      "Scores: [100.0, 100.0, 100.0, 100.0, 100.0]\n",
      "Mean Accuracy: 100.000%\n"
     ]
    }
   ],
   "source": [
    "# Backprop on the Seeds Dataset\n",
    "from random import seed\n",
    "from random import randrange\n",
    "from random import random\n",
    "from csv import reader\n",
    "\n",
    "\n",
    "# Test Backprop on Seeds dataset\n",
    "seed(1)\n",
    "\n",
    "# load and prepare data\n",
    "filename = 'Training_MD.csv'\n",
    "\n",
    "data = load_csv(filename)\n",
    "dataset = data[1:]\n",
    "\n",
    "for i in range(len(dataset[0])-1):\n",
    "    str_column_to_float(dataset, i)\n",
    "    \n",
    "# convert class column to integers\n",
    "str_column_to_int(dataset, len(dataset[0])-1)\n",
    "\n",
    "# normalize input variables\n",
    "minmax = dataset_minmax(dataset)\n",
    "normalize_dataset(dataset, minmax)\n",
    "\n",
    "# evaluate algorithm\n",
    "n_folds = 5\n",
    "l_rate = 1\n",
    "n_epoch = 50\n",
    "n_hidden = 1\n",
    "scores = evaluate_algorithm(dataset, back_propagation, n_folds, l_rate, n_epoch, n_hidden)\n",
    "print('Scores: %s' % scores)\n",
    "print('Mean Accuracy: %.3f%%' % (sum(scores)/float(len(scores))))"
   ]
  },
  {
   "cell_type": "code",
   "execution_count": 74,
   "id": "e41c6113-5b90-4b39-a8b7-753acfd17b8d",
   "metadata": {},
   "outputs": [
    {
     "name": "stdout",
     "output_type": "stream",
     "text": [
      "Scores: [100.0, 100.0, 100.0, 100.0, 100.0]\n",
      "Mean Accuracy: 100.000%\n"
     ]
    }
   ],
   "source": [
    "print('Scores: %s' % scores)\n",
    "print('Mean Accuracy: %.3f%%' % (sum(scores)/float(len(scores))))"
   ]
  }
 ],
 "metadata": {
  "kernelspec": {
   "display_name": "Python 3 (ipykernel)",
   "language": "python",
   "name": "python3"
  },
  "language_info": {
   "codemirror_mode": {
    "name": "ipython",
    "version": 3
   },
   "file_extension": ".py",
   "mimetype": "text/x-python",
   "name": "python",
   "nbconvert_exporter": "python",
   "pygments_lexer": "ipython3",
   "version": "3.9.7"
  }
 },
 "nbformat": 4,
 "nbformat_minor": 5
}
